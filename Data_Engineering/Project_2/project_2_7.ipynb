{
 "cells": [
  {
   "cell_type": "markdown",
   "id": "3f465500",
   "metadata": {},
   "source": [
    "# Project 2, Part 7, Analysis on continuing to withhold customer data from 3rd parties\n",
    "\n",
    "University of California, Berkeley\n",
    "\n",
    "Master of Information and Data Science (MIDS) program\n",
    "\n",
    "w205 - Fundamentals of Data Engineering\n"
   ]
  },
  {
   "cell_type": "markdown",
   "id": "1cf92eab",
   "metadata": {},
   "source": [
    "# 2.7 Analysis on continuing to withhold customer data from 3rd parties\n",
    "\n",
    "As stated in the scenario, like most companies, AGM does not want to give out its customer list to 3rd party sales channels.  The downside is, as we have seen, that customer first names, last names, and street addresses will have some variations and not be exact matches.\n",
    "\n",
    "The data science team would like your analysis of both options:\n",
    "\n",
    "1)  Continue to withhold the customer data from 3rd party sales channels\n",
    "\n",
    "2)  Give customer data to 3rd party sales channels\n",
    "\n",
    "The data science team would also like your recommendation on which option you think is best.  \n",
    "\n",
    "In the markdown cell, you must provide:\n",
    "* A meaningful title\n",
    "* Write a brief paragraph for option 1.\n",
    "* Write a brief paragraph for option 2.\n",
    "* Write a brief paragraph with your recommendation, which must be either option 1 or option 2, you cannot recommend something else.\n",
    "\n",
    "Put the title and all 3 paragraphs in a single markdown cell.\n",
    "\n",
    "You are not required to write any queries nor any code nor create any data visualizations.  Simply provide English text.\n"
   ]
  },
  {
   "cell_type": "markdown",
   "id": "c8086a63",
   "metadata": {},
   "source": [
    "# Data Pipeline: Accuracy vs Protection\n",
    "\n",
    "First, let’s analyze the option to withhold customer data from 3rd party sales channels. This option means third parties will provide AGM with JSON files at the end of each day, with detailed sales information. However, our analysis shows that 13.4% of the data would not match AGM’s data and thus need validation and cleansing to be 100% accurate.  \n",
    "\n",
    "Second, let’s analyze the option to give customer data to 3rd party sales channels. Following this course of action means third parties would return JSON or CSV files to AGM with accurate, matched data. It is important to note that custom code to integrate with a third-party API would cost a lot of money. \n",
    "\n",
    "My recommendation is option #1: to continue withholding customer data. AGM leadership already does not want to give out its customer list to these third parties due to trust and financial concerns. Integrating with a third-party API would cost a lot of money, and AGM management does not want to invest such capital until the POC has proven successful. These two acts are not simultaneously possible as creating custom code for a trial period does not make sense financially. Additionally, I believe that working with 13.4% of missing, unmatched data may not be a dealbreaker since most data analysis can be done in sample sizes anyway. If AGM does scale out and wants to use all the data for any particular reason, correcting the unmatched data is not an incredibly arduous task and could still be done through a streamlined process, saving the finances and time involved with API integration. Lastly, data security and breaches are huge liabilities in the industry today, and the safest option is to have power and protection of all customer data to avoid possible data catastrophes that can permanently damage a smaller company like AGM.\n"
   ]
  },
  {
   "cell_type": "code",
   "execution_count": null,
   "id": "b8c59d2b",
   "metadata": {},
   "outputs": [],
   "source": []
  }
 ],
 "metadata": {
  "kernelspec": {
   "display_name": "Python 3 (ipykernel)",
   "language": "python",
   "name": "python3"
  },
  "language_info": {
   "codemirror_mode": {
    "name": "ipython",
    "version": 3
   },
   "file_extension": ".py",
   "mimetype": "text/x-python",
   "name": "python",
   "nbconvert_exporter": "python",
   "pygments_lexer": "ipython3",
   "version": "3.9.7"
  }
 },
 "nbformat": 4,
 "nbformat_minor": 5
}
