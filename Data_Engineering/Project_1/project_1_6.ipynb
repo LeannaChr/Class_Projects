{
 "cells": [
  {
   "cell_type": "markdown",
   "id": "cd11da2a",
   "metadata": {},
   "source": [
    "# Project 1, Part 6, Identifying Best Customers\n"
   ]
  },
  {
   "cell_type": "markdown",
   "id": "701f1c25",
   "metadata": {},
   "source": [
    "# 1.6 Ideas on how the sales data can be used to help identify best customers\n",
    "\n",
    "The data science team would like to know your best ideas on how the sales data can be used to help identify the company's best customers.\n",
    "\n",
    "\n",
    "\n",
    "They are going to start with the most common and most basic model known as RFM, which consists of the 3 dimensions.\n",
    "\n",
    "* R - Recency - How recently did the customer purchase?\n",
    "\n",
    "* F - Frequency - How often do they purchase?\n",
    "\n",
    "* M - Monetary Value - How much do they spend?\n",
    "\n",
    "\n",
    "\n",
    "At first glance, it's pretty easy to think of a simple query for each dimension.\n",
    "\n",
    "However, after some thought, it's not quite so easy. It's very open ended, with a lot of grey areas, and no single right or wrong answer (just like 99% of data science and AI!)  For each dimension, there can be some pretty complex ways to determine.\n",
    "\n",
    "The data science team also has to come up with a way to synthesize the 3 dimensions into a single customer value for each customer.\n",
    "\n",
    "\n",
    "\n",
    "The data science team would like for you to present your ideas in the form of a title and 4 paragraphs as follows:\n",
    "\n",
    "* Title - A title describing what you will be explaining\n",
    "\n",
    "* Recency - A brief paragraph explaining your ideas on how the data can be used to determine recency.  \n",
    "\n",
    "* Frequency - A brief paragraph explaining your ideas on how the data can be used to determine frequency.\n",
    "\n",
    "* Monetary Value - A brief paragraph explaining your ideas on how the data can be used to determine monetary value.\n",
    "\n",
    "* Synthesis - A brief paragraph explaining your ideas on how to synthesize the 3 dimensions of recency, frequency, and monetary value into a customer value for each customer and how to determine who the best customers are.\n",
    "\n",
    "\n",
    "\n",
    "Put the title and all 4 paragraphs in a single markdown cell.\n",
    "\n",
    "Note that you do not write code for this, only english language descriptions of your ideas.\n",
    "\n"
   ]
  },
  {
   "cell_type": "markdown",
   "id": "67dd986f",
   "metadata": {},
   "source": [
    "# Replace this with your title\n",
    "\n",
    "Replace this with your 4 paragraphs"
   ]
  },
  {
   "cell_type": "markdown",
   "id": "3ed25c48",
   "metadata": {},
   "source": [
    "Title - Identify the best customers from our data\n",
    "\n",
    "RFM segmentation allows us to identify the best targetable customers based on three factors: recency, frequency, and monetary scores. Regency refers to the recency of a customer’s purchase or the length of time since their last purchase. To dive into this, we can use the sales table, where we can select sale_date and customer_id. From there, we can group by customer_id and select the max, or most recent sale_date. We can use this date to calculate how many days has passed since that customer’s last purchase. Now we have a row per customer with a column representing customer_id and a recency_value represented in past days.\n",
    "\n",
    "Frequency refers to how often a customer makes a purchase. We can, again, use the customer_id variable from the sales data table, group by customer_id, and count the number of sales transactions that the customer has completed by calling the count function. We can even group by month as well, using the sale_date variable to see how many times a customer makes a purchase per month. Now we have a row per customer with a column representing customer_id and frequency_value (per month if we would like).\n",
    "\n",
    "Monetary value refers to the total amount of money the customer spends. We can calculate this amount per customer using the customer_id and total_sum variables from the sales table. We would group the data by customer_id and aggregate by the sum of the total_amount. Again, we could also group by month to see how much a customer spends per month. Now we have a row per customer with a column representing customer_id and monetary_value (per month if we would like).\n",
    "\n",
    "We will synthesize the three dimensions of recency, frequency, and monetary value by joining all three tables described above on cusotmer_id. So now, we will have one row per customer id, with each customer having a column for recency, frequency per month, and monetary value. I believe we can use the recency column to eliminate customers that bought items more than 30 days ago. This means that if a customer doesn’t come into the store at least once a month, they should not be identified as a priority, valuable customer. This examination can be done every six months or so, to make sure we are updating the individuals who are prioritized due to recency. Then, we can sort the remaining rows first by monetary_value, then by frequency. I believe monetary value is more important than frequency, but frequency still shows customer loyalty and reliability for future business.\n",
    "Finally, we can join the remaining customers from the data set to the customer table by customer id, to then perform analysis on the geographic data of these customers. We can then identify geographic patterns in segments where high-value customers seem to reside. We can also join these customers to the line items and products table to analyze what products they tend to buy consistently. We can also use the closest_store_id information in the customer's table to understand whether a customer is loyal to the store due to proximity or true loyalty. Meaning, do they only shop at the store closest to them or do they shop at the store when traveling or away from home?\n"
   ]
  },
  {
   "cell_type": "code",
   "execution_count": null,
   "id": "3315c1a2",
   "metadata": {},
   "outputs": [],
   "source": []
  }
 ],
 "metadata": {
  "kernelspec": {
   "display_name": "Python 3 (ipykernel)",
   "language": "python",
   "name": "python3"
  },
  "language_info": {
   "codemirror_mode": {
    "name": "ipython",
    "version": 3
   },
   "file_extension": ".py",
   "mimetype": "text/x-python",
   "name": "python",
   "nbconvert_exporter": "python",
   "pygments_lexer": "ipython3",
   "version": "3.9.7"
  }
 },
 "nbformat": 4,
 "nbformat_minor": 5
}
